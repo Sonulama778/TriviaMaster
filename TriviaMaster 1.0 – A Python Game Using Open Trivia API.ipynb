{
 "cells": [
  {
   "cell_type": "code",
   "execution_count": 1,
   "id": "c1fa62cb",
   "metadata": {},
   "outputs": [],
   "source": [
    "import requests\n",
    "import random\n",
    "import html\n"
   ]
  },
  {
   "cell_type": "code",
   "execution_count": 2,
   "id": "803d583b",
   "metadata": {},
   "outputs": [
    {
     "name": "stdout",
     "output_type": "stream",
     "text": [
      "Requirement already satisfied: urllib3<2 in /Users/sonulama/anaconda3/lib/python3.10/site-packages (1.26.20)\n",
      "Requirement already satisfied: charset_normalizer<3 in /Users/sonulama/anaconda3/lib/python3.10/site-packages (2.1.1)\n",
      "Note: you may need to restart the kernel to use updated packages.\n"
     ]
    }
   ],
   "source": [
    "pip install \"urllib3<2\" \"charset_normalizer<3\" --upgrade\n"
   ]
  },
  {
   "cell_type": "code",
   "execution_count": 3,
   "id": "c0889586",
   "metadata": {},
   "outputs": [],
   "source": [
    "import warnings # to stop the warnings that popped up while installing the library\n",
    "warnings.filterwarnings(\"ignore\", category=UserWarning)\n"
   ]
  },
  {
   "cell_type": "code",
   "execution_count": 4,
   "id": "2de2aa44",
   "metadata": {},
   "outputs": [],
   "source": [
    "# Category dictionary\n",
    "categories = {\n",
    "    \"9\": \"General Knowledge\",\n",
    "    \"10\": \"Books\",\n",
    "    \"11\": \"Film\",\n",
    "    \"12\": \"Music\",\n",
    "    \"17\": \"Science & Nature\",\n",
    "    \"18\": \"Computers\",\n",
    "    \"19\": \"Mathematics\",\n",
    "    \"20\": \"Mythology\",\n",
    "    \"21\": \"Sports\",\n",
    "    \"22\": \"Geography\",\n",
    "    \"23\": \"History\"\n",
    "}\n",
    "\n",
    "# Ask user for difficulty and category\n",
    "def get_user_preferences():\n",
    "    print(\"\\n📚 Available Categories:\")\n",
    "    for key, value in categories.items():\n",
    "        print(f\"{key} - {value}\")\n",
    "\n",
    "    difficulty = input(\"\\nChoose difficulty (easy, medium, hard): \").lower()\n",
    "\n",
    "    while difficulty not in ['easy', 'medium', 'hard']:\n",
    "        print(\"❌ Invalid difficulty. Please type easy, medium, or hard.\")\n",
    "        difficulty = input(\"Choose difficulty (easy, medium, hard): \").lower()\n",
    "\n",
    "    while True:\n",
    "        category = input(\"Choose a category ID from the list above: \")\n",
    "        if category in categories:\n",
    "            break\n",
    "        else:\n",
    "            print(\"❌ Invalid category. Please choose from the list.\")\n",
    "\n",
    "    return difficulty, category\n",
    "\n"
   ]
  },
  {
   "cell_type": "code",
   "execution_count": 5,
   "id": "beefdbde",
   "metadata": {},
   "outputs": [],
   "source": [
    "# Fetch questions from API\n",
    "def fetch_questions(amount=5, difficulty=\"easy\", category=\"9\"):\n",
    "    url = f\"https://opentdb.com/api.php?amount={amount}&category={category}&difficulty={difficulty}&type=multiple\"\n",
    "    response = requests.get(url)\n",
    "    data = response.json()\n",
    "    return data['results']\n",
    "\n",
    "# Run quiz\n",
    "def run_quiz():\n",
    "    difficulty, category = get_user_preferences()\n",
    "    questions = fetch_questions(difficulty=difficulty, category=category)\n",
    "    score = 0\n",
    "\n",
    "    for index, q in enumerate(questions, 1):\n",
    "        question = html.unescape(q['question'])\n",
    "        correct = html.unescape(q['correct_answer'])\n",
    "        options = [html.unescape(ans) for ans in q['incorrect_answers']]\n",
    "        options.append(correct)\n",
    "        random.shuffle(options)\n",
    "\n",
    "        print(f\"\\nQ{index}: {question}\")\n",
    "        for i, option in enumerate(options):\n",
    "            print(f\"{i + 1}. {option}\")\n",
    "\n",
    "        try:\n",
    "            answer = int(input(\"Your answer (1–4): \"))\n",
    "            if options[answer - 1] == correct:\n",
    "                print(\"✅ Correct!\")\n",
    "                score += 1\n",
    "            else:\n",
    "                print(f\"❌ Wrong. The correct answer was: {correct}\")\n",
    "        except (ValueError, IndexError):\n",
    "            print(\"⚠️ Invalid input. Skipping question.\")\n",
    "\n",
    "    print(f\"\\n🎉 Quiz finished! Your score:\")\n"
   ]
  },
  {
   "cell_type": "code",
   "execution_count": null,
   "id": "4af4d2e4",
   "metadata": {},
   "outputs": [
    {
     "name": "stdout",
     "output_type": "stream",
     "text": [
      "\n",
      "📚 Available Categories:\n",
      "9 - General Knowledge\n",
      "10 - Books\n",
      "11 - Film\n",
      "12 - Music\n",
      "17 - Science & Nature\n",
      "18 - Computers\n",
      "19 - Mathematics\n",
      "20 - Mythology\n",
      "21 - Sports\n",
      "22 - Geography\n",
      "23 - History\n",
      "\n",
      "Choose difficulty (easy, medium, hard): easy\n",
      "Choose a category ID from the list above: 21\n",
      "\n",
      "Q1: Which team has won the most Stanley Cups in the NHL?\n",
      "1. Detroit Red Wings\n",
      "2. Toronto Maple Leafs\n",
      "3. Montreal Canadians\n",
      "4. Chicago Blackhawks\n",
      "Your answer (1–4): 1\n",
      "❌ Wrong. The correct answer was: Montreal Canadians\n",
      "\n",
      "Q2: Who did Steven Gerrard win the Champions League with?\n",
      "1. Liverpool\n",
      "2. Chelsea\n",
      "3. Real Madrid\n",
      "4. Man City\n",
      "Your answer (1–4): 4\n",
      "❌ Wrong. The correct answer was: Liverpool\n",
      "\n",
      "Q3: Which country won the 2018 FIFA World Cup hosted in Russia?\n",
      "1. France\n",
      "2. Belgium\n",
      "3. England\n",
      "4. Croatia\n",
      "Your answer (1–4): 3\n",
      "❌ Wrong. The correct answer was: France\n",
      "\n",
      "Q4: Which team won the 2015-16 English Premier League?\n",
      "1. Manchester United\n",
      "2. Cheslea\n",
      "3. Liverpool\n",
      "4. Leicester City\n",
      "Your answer (1–4): 2\n",
      "❌ Wrong. The correct answer was: Leicester City\n",
      "\n",
      "Q5: Which English football club has the nickname 'The Foxes'?\n",
      "1. Leicester City\n",
      "2. West Bromwich Albion\n",
      "3. Bradford City\n",
      "4. Northampton Town\n"
     ]
    }
   ],
   "source": [
    "run_quiz()"
   ]
  },
  {
   "cell_type": "code",
   "execution_count": null,
   "id": "d10bc328",
   "metadata": {},
   "outputs": [],
   "source": []
  }
 ],
 "metadata": {
  "kernelspec": {
   "display_name": "Python 3 (ipykernel)",
   "language": "python",
   "name": "python3"
  },
  "language_info": {
   "codemirror_mode": {
    "name": "ipython",
    "version": 3
   },
   "file_extension": ".py",
   "mimetype": "text/x-python",
   "name": "python",
   "nbconvert_exporter": "python",
   "pygments_lexer": "ipython3",
   "version": "3.10.9"
  }
 },
 "nbformat": 4,
 "nbformat_minor": 5
}
